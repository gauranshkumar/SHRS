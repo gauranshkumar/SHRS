{
 "cells": [
  {
   "cell_type": "code",
   "execution_count": 1,
   "id": "e5a3cff1",
   "metadata": {},
   "outputs": [],
   "source": [
    "from sklearn.ensemble import GradientBoostingClassifier\n",
    "from sklearn.preprocessing import MinMaxScaler\n",
    "from sklearn.metrics import accuracy_score\n",
    "from IPython.display import display\n",
    "import numpy as np\n",
    "import pandas as pd\n",
    "import matplotlib.pyplot as plt"
   ]
  },
  {
   "cell_type": "code",
   "execution_count": 2,
   "id": "559c55b5",
   "metadata": {},
   "outputs": [],
   "source": [
    "class SHRS_PS:\n",
    "    def __init__(self, path):\n",
    "        self.path = path\n",
    "        self.Data = pd.read_csv(path)\n",
    "        display(self.Data.head())\n",
    "        self.Min = np.min(self.Data['sugar'])\n",
    "        self.Max = np.max(self.Data['sugar'])\n",
    "    \n",
    "    def fit(self):\n",
    "        \"\"\"Data: Pandas Dataframe\"\"\"\n",
    "        self.normalize()\n",
    "        display(self.Data.head())\n",
    "        y = self.Data['label']\n",
    "        x = self.Data.drop([\"label\"], axis=1).to_numpy()\n",
    "        xTrain, yTrain = x[:80], y[:80]\n",
    "        xTest, yTest = x[80:], y[80:]\n",
    "        self.clf = GradientBoostingClassifier(n_estimators=100, learning_rate=.01, max_depth=1, random_state=0)\n",
    "        self.clf.fit(xTrain, yTrain)\n",
    "        print(\"Model Trained\\nAccuracy : {}\".format(self.clf.score(xTest, yTest)))        \n",
    "    \n",
    "    def single(self, num):\n",
    "        return num;\n",
    "    \n",
    "    def normalize(self, single=0):\n",
    "        \"\"\"Data : Dataframe\"\"\"\n",
    "        scaler = MinMaxScaler()\n",
    "        x = np.reshape(self.Data['sugar'].to_numpy(), (-1,1))\n",
    "        scaler = scaler.fit(x)\n",
    "        if(single==0):\n",
    "            sugar_normalised = scaler.transform(x)\n",
    "            self.Data['sugar'] = sugar_normalised\n",
    "            print(\"Executed Zero\")\n",
    "        else:\n",
    "            print(single, self.Min, self.Max)\n",
    "            return np.array((single - self.Min) / (self.Max - self.Min))\n",
    "        \n",
    "        \n",
    "    def predict(self, sugar, insulin, exercise, diet,  severe_disease):\n",
    "        print(self.clf.predict(np.reshape([self.normalize(sugar), insulin, exercise, diet, severe_disease], (1,-1))))"
   ]
  },
  {
   "cell_type": "code",
   "execution_count": 3,
   "id": "32788101",
   "metadata": {},
   "outputs": [
    {
     "output_type": "display_data",
     "data": {
      "text/plain": "   sugar  insulin  exercise  diet  severe_disease  label\n0    337        1         0     1               0      3\n1    312        1         1     1               1      3\n2    322        0         1     1               0      3\n3    152        0         0     1               1      1\n4    310        0         0     1               0      3",
      "text/html": "<div>\n<style scoped>\n    .dataframe tbody tr th:only-of-type {\n        vertical-align: middle;\n    }\n\n    .dataframe tbody tr th {\n        vertical-align: top;\n    }\n\n    .dataframe thead th {\n        text-align: right;\n    }\n</style>\n<table border=\"1\" class=\"dataframe\">\n  <thead>\n    <tr style=\"text-align: right;\">\n      <th></th>\n      <th>sugar</th>\n      <th>insulin</th>\n      <th>exercise</th>\n      <th>diet</th>\n      <th>severe_disease</th>\n      <th>label</th>\n    </tr>\n  </thead>\n  <tbody>\n    <tr>\n      <th>0</th>\n      <td>337</td>\n      <td>1</td>\n      <td>0</td>\n      <td>1</td>\n      <td>0</td>\n      <td>3</td>\n    </tr>\n    <tr>\n      <th>1</th>\n      <td>312</td>\n      <td>1</td>\n      <td>1</td>\n      <td>1</td>\n      <td>1</td>\n      <td>3</td>\n    </tr>\n    <tr>\n      <th>2</th>\n      <td>322</td>\n      <td>0</td>\n      <td>1</td>\n      <td>1</td>\n      <td>0</td>\n      <td>3</td>\n    </tr>\n    <tr>\n      <th>3</th>\n      <td>152</td>\n      <td>0</td>\n      <td>0</td>\n      <td>1</td>\n      <td>1</td>\n      <td>1</td>\n    </tr>\n    <tr>\n      <th>4</th>\n      <td>310</td>\n      <td>0</td>\n      <td>0</td>\n      <td>1</td>\n      <td>0</td>\n      <td>3</td>\n    </tr>\n  </tbody>\n</table>\n</div>"
     },
     "metadata": {}
    }
   ],
   "source": [
    "# shrs = SHRS_PS(\"./data_raka.csv\")"
   ]
  },
  {
   "cell_type": "code",
   "execution_count": 4,
   "id": "92614064",
   "metadata": {
    "scrolled": true
   },
   "outputs": [
    {
     "output_type": "stream",
     "name": "stdout",
     "text": [
      "Executed Zero\n"
     ]
    },
    {
     "output_type": "display_data",
     "data": {
      "text/plain": "      sugar  insulin  exercise  diet  severe_disease  label\n0  0.836257        1         0     1               0      3\n1  0.763158        1         1     1               1      3\n2  0.792398        0         1     1               0      3\n3  0.295322        0         0     1               1      1\n4  0.757310        0         0     1               0      3",
      "text/html": "<div>\n<style scoped>\n    .dataframe tbody tr th:only-of-type {\n        vertical-align: middle;\n    }\n\n    .dataframe tbody tr th {\n        vertical-align: top;\n    }\n\n    .dataframe thead th {\n        text-align: right;\n    }\n</style>\n<table border=\"1\" class=\"dataframe\">\n  <thead>\n    <tr style=\"text-align: right;\">\n      <th></th>\n      <th>sugar</th>\n      <th>insulin</th>\n      <th>exercise</th>\n      <th>diet</th>\n      <th>severe_disease</th>\n      <th>label</th>\n    </tr>\n  </thead>\n  <tbody>\n    <tr>\n      <th>0</th>\n      <td>0.836257</td>\n      <td>1</td>\n      <td>0</td>\n      <td>1</td>\n      <td>0</td>\n      <td>3</td>\n    </tr>\n    <tr>\n      <th>1</th>\n      <td>0.763158</td>\n      <td>1</td>\n      <td>1</td>\n      <td>1</td>\n      <td>1</td>\n      <td>3</td>\n    </tr>\n    <tr>\n      <th>2</th>\n      <td>0.792398</td>\n      <td>0</td>\n      <td>1</td>\n      <td>1</td>\n      <td>0</td>\n      <td>3</td>\n    </tr>\n    <tr>\n      <th>3</th>\n      <td>0.295322</td>\n      <td>0</td>\n      <td>0</td>\n      <td>1</td>\n      <td>1</td>\n      <td>1</td>\n    </tr>\n    <tr>\n      <th>4</th>\n      <td>0.757310</td>\n      <td>0</td>\n      <td>0</td>\n      <td>1</td>\n      <td>0</td>\n      <td>3</td>\n    </tr>\n  </tbody>\n</table>\n</div>"
     },
     "metadata": {}
    },
    {
     "output_type": "stream",
     "name": "stdout",
     "text": [
      "Model Trained\nAccuracy : 0.95\n"
     ]
    }
   ],
   "source": [
    "# shrs.fit()"
   ]
  },
  {
   "cell_type": "code",
   "execution_count": 5,
   "id": "d6ed7b98",
   "metadata": {},
   "outputs": [
    {
     "output_type": "stream",
     "name": "stdout",
     "text": [
      "299 51 393\n[2]\n"
     ]
    }
   ],
   "source": [
    "# shrs.predict(299, 1, 1, 1, 1)"
   ]
  },
  {
   "cell_type": "code",
   "execution_count": 88,
   "id": "eccf73fb",
   "metadata": {},
   "outputs": [],
   "source": [
    "# To add a new cell, type '# %%'\n",
    "# To add a new markdown cell, type '# %% [markdown]'\n",
    "# %%\n",
    "from sklearn.ensemble import GradientBoostingClassifier\n",
    "from sklearn.preprocessing import MinMaxScaler\n",
    "from sklearn.metrics import accuracy_score\n",
    "import smtplib\n",
    "from IPython.display import display\n",
    "from email.message import EmailMessage\n",
    "import numpy as np\n",
    "import pandas as pd\n",
    "import matplotlib.pyplot as plt\n",
    "\n",
    "\n",
    "# %%\n",
    "class Prediction_system:\n",
    "    def __init__(self, path):\n",
    "        self.path = path\n",
    "        self.Data = pd.read_csv(path)\n",
    "        display(self.Data.head())\n",
    "        self.Min = np.min(self.Data['sugar'])\n",
    "        self.Max = np.max(self.Data['sugar'])\n",
    "\n",
    "    def fit(self):\n",
    "        \"\"\"Data: Pandas Dataframe\"\"\"\n",
    "        self.normalize()\n",
    "        display(self.Data.head())\n",
    "        y = self.Data['label']\n",
    "        x = self.Data.drop([\"label\"], axis=1).to_numpy()\n",
    "        xTrain, yTrain = x[:80], y[:80]\n",
    "        xTest, yTest = x[80:], y[80:]\n",
    "        self.clf = GradientBoostingClassifier(\n",
    "            n_estimators=100, learning_rate=.01, max_depth=1, random_state=0)\n",
    "        self.clf.fit(xTrain, yTrain)\n",
    "        print(\"Model Trained\\nAccuracy : {}\".format(\n",
    "            self.clf.score(xTest, yTest)))\n",
    "\n",
    "    def single(self, num):\n",
    "        return num\n",
    "\n",
    "    def normalize(self, single=0):\n",
    "        \"\"\"Data : Dataframe\"\"\"\n",
    "        scaler = MinMaxScaler()\n",
    "        x = np.reshape(self.Data['sugar'].to_numpy(), (-1, 1))\n",
    "        scaler = scaler.fit(x)\n",
    "        if(single == 0):\n",
    "            sugar_normalised = scaler.transform(x)\n",
    "            self.Data['sugar'] = sugar_normalised\n",
    "            print(\"Executed Zero\")\n",
    "        else:\n",
    "            print(single, self.Min, self.Max)\n",
    "            return np.array((single - self.Min) / (self.Max - self.Min))\n",
    "\n",
    "    def predict(self, sugar, insulin, exercise, diet,  severe_disease):\n",
    "        return self.clf.predict(np.reshape([self.normalize(sugar), insulin, exercise, diet, severe_disease], (1, -1)))\n",
    "\n",
    "\n",
    "# %%\n",
    "# shrs = SHRS_PS(\"./data_raka.csv\")\n",
    "\n",
    "\n",
    "# %%\n",
    "# shrs.fit()\n",
    "\n",
    "\n",
    "# %%\n",
    "# shrs.predict(299, 1, 1, 1, 1)\n",
    "\n",
    "\n",
    "# %%\n",
    "class Allocation_system:\n",
    "    def __init__(self, data):\n",
    "        \"\"\"data: Dictionary of user info\"\"\"\n",
    "        self.user = data\n",
    "        self.predictedSiverity = 0\n",
    "        self.automatedSiverity = \"\"\n",
    "        self.predicteAllocation = \"\"\n",
    "\n",
    "    def result(self):\n",
    "        \"\"\"return: String - Final Report String\"\"\"\n",
    "        # params = []\n",
    "        # params.append(float(user.data['sugar']))\n",
    "        # params.append(float(user.data['insulin']))\n",
    "        # params.append(float(user.data['exercise']))\n",
    "        # params.append(float(user.data['diet']))\n",
    "        # params.append(float(user.data['severe_disease']))\n",
    "        predictionSystem = Prediction_system(\"./data_raka.csv\")\n",
    "        predictionSystem.fit()\n",
    "        self.predictedSiverity = predictionSystem.predict(float(self.user['sugar']), float(self.user['insulin']), float(\n",
    "            self.user['exercise']), float(self.user['diet']), float(self.user['severe_disease']))[0]\n",
    "        return self.predictedSiverity\n",
    "\n",
    "    def report(self):\n",
    "        print(self.result())\n",
    "        if(self.predictedSiverity == 1):\n",
    "            self.automatedSiverity = \"1 - Low Chances of Re-addmitance\"\n",
    "        elif(self.predictedSiverity == 2):\n",
    "            self.automatedSiverity = \"2 - Medium Chances of Re-addmitance\"\n",
    "        elif(self.predictedSiverity == 3):\n",
    "            self.automatedSiverity = \"3 - High Chances of Re-addmitance\"\n",
    "\n",
    "        if(((self.user['age'] > 60) and (self.predictedSiverity >= 2)) and (self.user[\"cardiac\"] == 1)):\n",
    "            self.predicteAllocation = '''Ward Type : ICCU (Intensive Cardiac Care Unit)\\n\n",
    "            Ward Boys/ Nurses : 2-3\\n\n",
    "            Stretcher/Weelchair : Yes\\n\n",
    "            Specialised Doctor : Yes\\n'''\n",
    "\n",
    "        elif((self.user['age'] > 60) and (self.predictedSiverity >= 2)):\n",
    "            self.predicteAllocation = '''Ward Type : ICU (Intensive Care Unit)\\n\n",
    "            Ward Boys/ Nurses : 2-3\\n\n",
    "            Stretcher/Weelchair : Yes\\n\n",
    "            Specialised Doctor : Yes\\n'''\n",
    "\n",
    "        elif((self.user['age'] <= 60) and (self.predictedSiverity >= 2)):\n",
    "            self.predicteAllocation = '''Ward Type : ICU (Intensive Care Unit)\\n\n",
    "            Ward Boys/ Nurses : 2-3\\n\n",
    "            Stretcher/Weelchair : No\\n\n",
    "            Specialised Doctor : Yes\\n'''\n",
    "\n",
    "        elif((self.user['age'] <= 60 )and (self.predictedSiverity < 2)):\n",
    "            self.predicteAllocation = '''Ward Type : ICCU (Intensive Cardiac Care Unit)\\n\n",
    "            Ward Boys/ Nurses : 1-2\\n\n",
    "            Stretcher/Weelchair : No\\n\n",
    "            Specialised Doctor : No\\n'''\n",
    "\n",
    "        r = \"\"\"\n",
    "        Name : {}\\n\n",
    "        Gender : {}\\n\n",
    "        Age : {}\\n\n",
    "        Random Sugar Level : {} mg/dL\\n\n",
    "        Insulin Dosage : {}\\n\n",
    "        Exercise : {}\\n\n",
    "        Diet : {}\\n\n",
    "        Severe Disease : {}\\n\n",
    "        Calculated Criticalness: {}\\n\n",
    "        Predicted Allocation : {}\\n\n",
    "        \"\"\".format(self.user['name'], self.user['gender'], self.user['age'], self.user['sugar'], self.user['insulin'], self.user['exercise'], self.user['diet'], self.user['severe_disease'], self.automatedSiverity, self.predicteAllocation)\n",
    "        return r\n",
    "\n",
    "    def verification(self):\n",
    "        msg = EmailMessage()\n",
    "        msg.set_content(self.report())\n",
    "\n",
    "        msg['Subject'] = \"Patient Report for Verification\"\n",
    "        msg['From'] = \"temp.mail.saga@gmail.com\"\n",
    "        msg['To'] = \"satyammishrawe@gmail.com\"\n",
    "\n",
    "        # Send the message via our own SMTP server.\n",
    "        server = smtplib.SMTP_SSL('smtp.gmail.com', 465)\n",
    "        server.login(\"temp.mail.saga@gmail.com\", \"foobar#2001\")\n",
    "        server.send_message(msg)\n",
    "        server.quit()\n",
    "\n",
    "    def submit(self, is_critical=False):\n",
    "        if(is_critical):\n",
    "            self.verification()\n",
    "        elif(self.predictedSiverity >= 2):\n",
    "            self.verification()\n",
    "        return self.report()\n",
    "\n",
    "# %%\n"
   ]
  },
  {
   "cell_type": "code",
   "execution_count": 85,
   "metadata": {},
   "outputs": [],
   "source": [
    "Als = Allocation_system({\"name\": \"Ram Prasad\",\n",
    "                             \"gender\": \"Male\",\n",
    "                             \"age\": 54,\n",
    "                             \"sugar\": 278,\n",
    "                             \"insulin\": 1,\n",
    "                             \"exercise\": 0,\n",
    "                             \"diet\": 0,\n",
    "                             \"severe_disease\": 1,\n",
    "                             \"cardiac\": 0\n",
    "                             })"
   ]
  },
  {
   "cell_type": "code",
   "execution_count": 86,
   "metadata": {},
   "outputs": [
    {
     "output_type": "display_data",
     "data": {
      "text/plain": "   sugar  insulin  exercise  diet  severe_disease  label\n0    337        1         0     1               0      3\n1    312        1         1     1               1      3\n2    322        0         1     1               0      3\n3    152        0         0     1               1      1\n4    310        0         0     1               0      3",
      "text/html": "<div>\n<style scoped>\n    .dataframe tbody tr th:only-of-type {\n        vertical-align: middle;\n    }\n\n    .dataframe tbody tr th {\n        vertical-align: top;\n    }\n\n    .dataframe thead th {\n        text-align: right;\n    }\n</style>\n<table border=\"1\" class=\"dataframe\">\n  <thead>\n    <tr style=\"text-align: right;\">\n      <th></th>\n      <th>sugar</th>\n      <th>insulin</th>\n      <th>exercise</th>\n      <th>diet</th>\n      <th>severe_disease</th>\n      <th>label</th>\n    </tr>\n  </thead>\n  <tbody>\n    <tr>\n      <th>0</th>\n      <td>337</td>\n      <td>1</td>\n      <td>0</td>\n      <td>1</td>\n      <td>0</td>\n      <td>3</td>\n    </tr>\n    <tr>\n      <th>1</th>\n      <td>312</td>\n      <td>1</td>\n      <td>1</td>\n      <td>1</td>\n      <td>1</td>\n      <td>3</td>\n    </tr>\n    <tr>\n      <th>2</th>\n      <td>322</td>\n      <td>0</td>\n      <td>1</td>\n      <td>1</td>\n      <td>0</td>\n      <td>3</td>\n    </tr>\n    <tr>\n      <th>3</th>\n      <td>152</td>\n      <td>0</td>\n      <td>0</td>\n      <td>1</td>\n      <td>1</td>\n      <td>1</td>\n    </tr>\n    <tr>\n      <th>4</th>\n      <td>310</td>\n      <td>0</td>\n      <td>0</td>\n      <td>1</td>\n      <td>0</td>\n      <td>3</td>\n    </tr>\n  </tbody>\n</table>\n</div>"
     },
     "metadata": {}
    },
    {
     "output_type": "stream",
     "name": "stdout",
     "text": [
      "Executed Zero\n"
     ]
    },
    {
     "output_type": "display_data",
     "data": {
      "text/plain": "      sugar  insulin  exercise  diet  severe_disease  label\n0  0.836257        1         0     1               0      3\n1  0.763158        1         1     1               1      3\n2  0.792398        0         1     1               0      3\n3  0.295322        0         0     1               1      1\n4  0.757310        0         0     1               0      3",
      "text/html": "<div>\n<style scoped>\n    .dataframe tbody tr th:only-of-type {\n        vertical-align: middle;\n    }\n\n    .dataframe tbody tr th {\n        vertical-align: top;\n    }\n\n    .dataframe thead th {\n        text-align: right;\n    }\n</style>\n<table border=\"1\" class=\"dataframe\">\n  <thead>\n    <tr style=\"text-align: right;\">\n      <th></th>\n      <th>sugar</th>\n      <th>insulin</th>\n      <th>exercise</th>\n      <th>diet</th>\n      <th>severe_disease</th>\n      <th>label</th>\n    </tr>\n  </thead>\n  <tbody>\n    <tr>\n      <th>0</th>\n      <td>0.836257</td>\n      <td>1</td>\n      <td>0</td>\n      <td>1</td>\n      <td>0</td>\n      <td>3</td>\n    </tr>\n    <tr>\n      <th>1</th>\n      <td>0.763158</td>\n      <td>1</td>\n      <td>1</td>\n      <td>1</td>\n      <td>1</td>\n      <td>3</td>\n    </tr>\n    <tr>\n      <th>2</th>\n      <td>0.792398</td>\n      <td>0</td>\n      <td>1</td>\n      <td>1</td>\n      <td>0</td>\n      <td>3</td>\n    </tr>\n    <tr>\n      <th>3</th>\n      <td>0.295322</td>\n      <td>0</td>\n      <td>0</td>\n      <td>1</td>\n      <td>1</td>\n      <td>1</td>\n    </tr>\n    <tr>\n      <th>4</th>\n      <td>0.757310</td>\n      <td>0</td>\n      <td>0</td>\n      <td>1</td>\n      <td>0</td>\n      <td>3</td>\n    </tr>\n  </tbody>\n</table>\n</div>"
     },
     "metadata": {}
    },
    {
     "output_type": "stream",
     "name": "stdout",
     "text": [
      "Model Trained\nAccuracy : 0.95\n278.0 51 393\n2\n\n        Name : Ram Prasad\n\n        Gender : Male\n\n        Age : 54\n\n        Random Sugar Level : 278 mg/dL\n\n        Insulin Dosage : 1\n\n        Exercise : 0\n\n        Diet : 0\n\n        Severe Disease : 1\n\n        Calculated Criticalness: 2 - Medium Chances of Re-addmitance\n\n        Predicted Allocation : Ward Type : ICU (Intensive Care Unit)\n\n            Ward Boys/ Nurses : 2-3\n\n            Stretcher/Weelchair : No\n\n            Specialised Doctor : Yes\n\n\n        \n"
     ]
    }
   ],
   "source": [
    "print(Als.submit())"
   ]
  },
  {
   "cell_type": "code",
   "execution_count": 70,
   "metadata": {},
   "outputs": [
    {
     "output_type": "execute_result",
     "data": {
      "text/plain": [
       "2"
      ]
     },
     "metadata": {},
     "execution_count": 70
    }
   ],
   "source": [
    "Als.predictedSiverity"
   ]
  },
  {
   "cell_type": "code",
   "execution_count": null,
   "metadata": {},
   "outputs": [],
   "source": []
  }
 ],
 "metadata": {
  "kernelspec": {
   "display_name": "Python 3",
   "language": "python",
   "name": "python3"
  },
  "language_info": {
   "codemirror_mode": {
    "name": "ipython",
    "version": 3
   },
   "file_extension": ".py",
   "mimetype": "text/x-python",
   "name": "python",
   "nbconvert_exporter": "python",
   "pygments_lexer": "ipython3",
   "version": "3.8.8"
  }
 },
 "nbformat": 4,
 "nbformat_minor": 5
}