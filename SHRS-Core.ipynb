{
 "cells": [
  {
   "cell_type": "code",
   "execution_count": 1,
   "id": "e5a3cff1",
   "metadata": {},
   "outputs": [],
   "source": [
    "from sklearn.ensemble import GradientBoostingClassifier\n",
    "from sklearn.preprocessing import MinMaxScaler\n",
    "from sklearn.metrics import accuracy_score\n",
    "from IPython.display import display\n",
    "import numpy as np\n",
    "import pandas as pd\n",
    "import matplotlib.pyplot as plt"
   ]
  },
  {
   "cell_type": "code",
   "execution_count": 2,
   "id": "559c55b5",
   "metadata": {},
   "outputs": [],
   "source": [
    "class SHRS_PS:\n",
    "    def __init__(self, path):\n",
    "        self.path = path\n",
    "        self.Data = pd.read_csv(path)\n",
    "        display(self.Data.head())\n",
    "        self.Min = np.min(self.Data['sugar'])\n",
    "        self.Max = np.max(self.Data['sugar'])\n",
    "    \n",
    "    def fit(self):\n",
    "        \"\"\"Data: Pandas Dataframe\"\"\"\n",
    "        self.normalize()\n",
    "        display(self.Data.head())\n",
    "        y = self.Data['label']\n",
    "        x = self.Data.drop([\"label\"], axis=1).to_numpy()\n",
    "        xTrain, yTrain = x[:80], y[:80]\n",
    "        xTest, yTest = x[80:], y[80:]\n",
    "        self.clf = GradientBoostingClassifier(n_estimators=100, learning_rate=.01, max_depth=1, random_state=0)\n",
    "        self.clf.fit(xTrain, yTrain)\n",
    "        print(\"Model Trained\\nAccuracy : {}\".format(self.clf.score(xTest, yTest)))        \n",
    "    \n",
    "    def single(self, num):\n",
    "        return num;\n",
    "    \n",
    "    def normalize(self, single=0):\n",
    "        \"\"\"Data : Dataframe\"\"\"\n",
    "        scaler = MinMaxScaler()\n",
    "        x = np.reshape(self.Data['sugar'].to_numpy(), (-1,1))\n",
    "        scaler = scaler.fit(x)\n",
    "        if(single==0):\n",
    "            sugar_normalised = scaler.transform(x)\n",
    "            self.Data['sugar'] = sugar_normalised\n",
    "            print(\"Executed Zero\")\n",
    "        else:\n",
    "            print(single, self.Min, self.Max)\n",
    "            return np.array((single - self.Min) / (self.Max - self.Min))\n",
    "        \n",
    "        \n",
    "    def predict(self, sugar, insulin, exercise, diet,  severe_disease):\n",
    "        print(self.clf.predict(np.reshape([self.normalize(sugar), insulin, exercise, diet, severe_disease], (1,-1))))"
   ]
  },
  {
   "cell_type": "code",
   "execution_count": 3,
   "id": "aeed3bfc",
   "metadata": {},
   "outputs": [
    {
     "data": {
      "text/html": [
       "<div>\n",
       "<style scoped>\n",
       "    .dataframe tbody tr th:only-of-type {\n",
       "        vertical-align: middle;\n",
       "    }\n",
       "\n",
       "    .dataframe tbody tr th {\n",
       "        vertical-align: top;\n",
       "    }\n",
       "\n",
       "    .dataframe thead th {\n",
       "        text-align: right;\n",
       "    }\n",
       "</style>\n",
       "<table border=\"1\" class=\"dataframe\">\n",
       "  <thead>\n",
       "    <tr style=\"text-align: right;\">\n",
       "      <th></th>\n",
       "      <th>sugar</th>\n",
       "      <th>insulin</th>\n",
       "      <th>exercise</th>\n",
       "      <th>diet</th>\n",
       "      <th>severe_disease</th>\n",
       "      <th>label</th>\n",
       "    </tr>\n",
       "  </thead>\n",
       "  <tbody>\n",
       "    <tr>\n",
       "      <th>0</th>\n",
       "      <td>337</td>\n",
       "      <td>1</td>\n",
       "      <td>0</td>\n",
       "      <td>1</td>\n",
       "      <td>0</td>\n",
       "      <td>3</td>\n",
       "    </tr>\n",
       "    <tr>\n",
       "      <th>1</th>\n",
       "      <td>312</td>\n",
       "      <td>1</td>\n",
       "      <td>1</td>\n",
       "      <td>1</td>\n",
       "      <td>1</td>\n",
       "      <td>3</td>\n",
       "    </tr>\n",
       "    <tr>\n",
       "      <th>2</th>\n",
       "      <td>322</td>\n",
       "      <td>0</td>\n",
       "      <td>1</td>\n",
       "      <td>1</td>\n",
       "      <td>0</td>\n",
       "      <td>3</td>\n",
       "    </tr>\n",
       "    <tr>\n",
       "      <th>3</th>\n",
       "      <td>152</td>\n",
       "      <td>0</td>\n",
       "      <td>0</td>\n",
       "      <td>1</td>\n",
       "      <td>1</td>\n",
       "      <td>1</td>\n",
       "    </tr>\n",
       "    <tr>\n",
       "      <th>4</th>\n",
       "      <td>310</td>\n",
       "      <td>0</td>\n",
       "      <td>0</td>\n",
       "      <td>1</td>\n",
       "      <td>0</td>\n",
       "      <td>3</td>\n",
       "    </tr>\n",
       "  </tbody>\n",
       "</table>\n",
       "</div>"
      ],
      "text/plain": [
       "   sugar  insulin  exercise  diet  severe_disease  label\n",
       "0    337        1         0     1               0      3\n",
       "1    312        1         1     1               1      3\n",
       "2    322        0         1     1               0      3\n",
       "3    152        0         0     1               1      1\n",
       "4    310        0         0     1               0      3"
      ]
     },
     "metadata": {},
     "output_type": "display_data"
    }
   ],
   "source": [
    "shrs = SHRS_PS(\"./data_raka.csv\")"
   ]
  },
  {
   "cell_type": "code",
   "execution_count": 4,
   "id": "9c672add",
   "metadata": {
    "scrolled": true
   },
   "outputs": [
    {
     "name": "stdout",
     "output_type": "stream",
     "text": [
      "Executed Zero\n"
     ]
    },
    {
     "data": {
      "text/html": [
       "<div>\n",
       "<style scoped>\n",
       "    .dataframe tbody tr th:only-of-type {\n",
       "        vertical-align: middle;\n",
       "    }\n",
       "\n",
       "    .dataframe tbody tr th {\n",
       "        vertical-align: top;\n",
       "    }\n",
       "\n",
       "    .dataframe thead th {\n",
       "        text-align: right;\n",
       "    }\n",
       "</style>\n",
       "<table border=\"1\" class=\"dataframe\">\n",
       "  <thead>\n",
       "    <tr style=\"text-align: right;\">\n",
       "      <th></th>\n",
       "      <th>sugar</th>\n",
       "      <th>insulin</th>\n",
       "      <th>exercise</th>\n",
       "      <th>diet</th>\n",
       "      <th>severe_disease</th>\n",
       "      <th>label</th>\n",
       "    </tr>\n",
       "  </thead>\n",
       "  <tbody>\n",
       "    <tr>\n",
       "      <th>0</th>\n",
       "      <td>0.836257</td>\n",
       "      <td>1</td>\n",
       "      <td>0</td>\n",
       "      <td>1</td>\n",
       "      <td>0</td>\n",
       "      <td>3</td>\n",
       "    </tr>\n",
       "    <tr>\n",
       "      <th>1</th>\n",
       "      <td>0.763158</td>\n",
       "      <td>1</td>\n",
       "      <td>1</td>\n",
       "      <td>1</td>\n",
       "      <td>1</td>\n",
       "      <td>3</td>\n",
       "    </tr>\n",
       "    <tr>\n",
       "      <th>2</th>\n",
       "      <td>0.792398</td>\n",
       "      <td>0</td>\n",
       "      <td>1</td>\n",
       "      <td>1</td>\n",
       "      <td>0</td>\n",
       "      <td>3</td>\n",
       "    </tr>\n",
       "    <tr>\n",
       "      <th>3</th>\n",
       "      <td>0.295322</td>\n",
       "      <td>0</td>\n",
       "      <td>0</td>\n",
       "      <td>1</td>\n",
       "      <td>1</td>\n",
       "      <td>1</td>\n",
       "    </tr>\n",
       "    <tr>\n",
       "      <th>4</th>\n",
       "      <td>0.757310</td>\n",
       "      <td>0</td>\n",
       "      <td>0</td>\n",
       "      <td>1</td>\n",
       "      <td>0</td>\n",
       "      <td>3</td>\n",
       "    </tr>\n",
       "  </tbody>\n",
       "</table>\n",
       "</div>"
      ],
      "text/plain": [
       "      sugar  insulin  exercise  diet  severe_disease  label\n",
       "0  0.836257        1         0     1               0      3\n",
       "1  0.763158        1         1     1               1      3\n",
       "2  0.792398        0         1     1               0      3\n",
       "3  0.295322        0         0     1               1      1\n",
       "4  0.757310        0         0     1               0      3"
      ]
     },
     "metadata": {},
     "output_type": "display_data"
    },
    {
     "name": "stdout",
     "output_type": "stream",
     "text": [
      "Model Trained\n",
      "Accuracy : 0.95\n"
     ]
    }
   ],
   "source": [
    "shrs.fit()"
   ]
  },
  {
   "cell_type": "code",
   "execution_count": 5,
   "id": "0aa6fdd7",
   "metadata": {},
   "outputs": [
    {
     "name": "stdout",
     "output_type": "stream",
     "text": [
      "299 51 393\n",
      "[2]\n"
     ]
    }
   ],
   "source": [
    "shrs.predict(299, 1, 1, 1, 1)"
   ]
  },
  {
   "cell_type": "code",
   "execution_count": null,
   "id": "841adb69",
   "metadata": {},
   "outputs": [],
   "source": []
  }
 ],
 "metadata": {
  "kernelspec": {
   "display_name": "Python 3",
   "language": "python",
   "name": "python3"
  },
  "language_info": {
   "codemirror_mode": {
    "name": "ipython",
    "version": 3
   },
   "file_extension": ".py",
   "mimetype": "text/x-python",
   "name": "python",
   "nbconvert_exporter": "python",
   "pygments_lexer": "ipython3",
   "version": "3.8.8"
  }
 },
 "nbformat": 4,
 "nbformat_minor": 5
}
